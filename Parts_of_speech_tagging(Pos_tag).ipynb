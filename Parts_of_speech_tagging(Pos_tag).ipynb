{
  "nbformat": 4,
  "nbformat_minor": 0,
  "metadata": {
    "colab": {
      "provenance": [],
      "authorship_tag": "ABX9TyNsKxE/SabNjEDDkpWwvEIk",
      "include_colab_link": true
    },
    "kernelspec": {
      "name": "python3",
      "display_name": "Python 3"
    },
    "language_info": {
      "name": "python"
    }
  },
  "cells": [
    {
      "cell_type": "markdown",
      "metadata": {
        "id": "view-in-github",
        "colab_type": "text"
      },
      "source": [
        "<a href=\"https://colab.research.google.com/github/DeepeshMadane/NLP_Machine_learning/blob/main/Parts_of_speech_tagging(Pos_tag).ipynb\" target=\"_parent\"><img src=\"https://colab.research.google.com/assets/colab-badge.svg\" alt=\"Open In Colab\"/></a>"
      ]
    },
    {
      "cell_type": "code",
      "execution_count": 37,
      "metadata": {
        "id": "j98B3b03Razm"
      },
      "outputs": [],
      "source": [
        "paragraph = \"\"\"\n",
        "I have three visions for India. In 3000 years of our history, people from all over the world have come and invaded us, captured our lands, conquered our minds. From Alexander onwards, the Greeks, the Turks, the Moguls, the Portuguese, the British, the French, the Dutch, all of them came and looted us, took over what was ours. Yet we have not done this to any other nation. We have not conquered anyone. We have not grabbed their land, their culture, their history and tried to enforce our way of life on them. Why? Because we respect the freedom of others.\n",
        "That is why my first vision is that of freedom. I believe that India got its first vision of this in 1857, when we started the War of Independence. It is this freedom that we must protect and nurture and build on. If we are not free, no one will respect us.\n",
        "My second vision for India’s development. For fifty years we have been a developing nation. It is time we see ourselves as a developed nation. We are among the top 5 nations of the world in terms of GDP. We have a 10 percent growth rate in most areas. Our poverty levels are falling. Our achievements are being globally recognised today. Yet we lack the self-confidence to see ourselves as a developed nation, self-reliant and self-assured. Isn’t this incorrect?\n",
        "I have a third vision. India must stand up to the world. Because I believe that unless India stands up to the world, no one will respect us. Only strength respects strength. We must be strong not only as a military power but also as an economic power. Both must go hand-in-hand. My good fortune was to have worked with three great minds. Dr. Vikram Sarabhai of the Dept. of space, Professor Satish Dhawan, who succeeded him and Dr. Brahm Prakash, father of nuclear material. I was lucky to have worked with all three of them closely and consider this the great opportunity of my life. I see four milestones in my career:\n",
        "Twenty years I spent in ISRO. I was given the opportunity to be the project director for India’s first satellite launch vehicle, SLV3. The one that launched Rohini. These years played a very important role in my life of Scienc. After my ISRO years, I joined DRDO and got a chance to be the part of India’s guided missile program. It was my second bliss when Agni met its mission requirements in 1994.\n",
        "The Dept. of Atomic Energy and DRDO had this tremendous partnership in the recent nuclear tests, on May 11 and 13. This was the third bliss. The joy of participating with my team in these nuclear tests and proving to the world that India can make it, that we are no longer a developing nation but one of them. It made me feel very proud as an Indian. The fact that we have now developed for Agni a re-entry structure, for which we have developed this new material. A very light material called carbon-carbon.\n",
        "One day an orthopedic surgeon from Nizam Institute of Medical Sciences visited my laboratory. He lifted the material and found it so light that he took me to his hospital and showed me his patients. There were these little girls and boys with heavy metallic calipers weighing over three kg. each, dragging their feet around.\n",
        "He said to me : Please remove the pain of my patients. In three weeks, we made these floor reaction Orthosis 300-gram calipers and took them to the orthopedic center. The children didn’t believe their eyes. From dragging around a three kg. load on their legs, they could now move around! Their parents had tears in their eyes. That was my fourth bliss!\n",
        "Why is the media here so negative? Why are we in India so embarrassed to recognise our own strengths, our achievements? We are such a great nation. We have so many amazing success stories but we refuse to acknowledge them. Why?\n",
        "We are the first in milk production.We are number one in Remote sensing satellites.\n",
        "We are the second largest producer of wheat.\n",
        "We are the second largest producer of rice.\n",
        "Look at Dr. Sudarshan, he has transformed the tribal village into a self-sustaining, self driving unit.\n",
        "There are millions of such achievements but our media is only obsessed with bad news and failures and disasters.\n",
        "I was in Tel Aviv once and I was reading the Israeli newspaper. It was the day after a lot of attacks and bombardments and deaths had taken place. The Hamas had struck. But the front page of the newspaper had the picture of a Jewish gentleman who in five years had transformed his desert land into an orchid and a granary.\n",
        "It was this inspiring picture that everyone woke up to. The gory details of killings, bombardments, deaths, were inside in the newspaper, buried among other news. In India we only read about death, sickness, terrorism, crime. Why are we so NEGATIVE?\n",
        "Another question : Why are we, as a nation so obsessed with foreign things? We want foreign TVs, we want foreign shirts. We want foreign technology. Why this obsession with everything imported? Do we not realize that self-respect comes with self-reliance? I was in Hyderabad giving this lecture, when a 14 year old girl asked me for my autograph. I asked her what her goal in life is. She replied: I want to live in a developed India. For her, you and I will have to build this developed India. You must proclaim. India is not an under-developed nation; it is a highly developed nation.\n",
        "Do you have 10 minutes? Allow me to come back with a vengeance. Got 10 minutes for your country? If yes, then read; otherwise, choice is yours.\n",
        "YOU say that our laws\n",
        "\"\"\""
      ]
    },
    {
      "cell_type": "code",
      "source": [
        "from nltk.corpus import stopwords"
      ],
      "metadata": {
        "id": "JgJdAnntSSrk"
      },
      "execution_count": 38,
      "outputs": []
    },
    {
      "cell_type": "code",
      "source": [
        "import nltk\n",
        "nltk.download('stopwords')"
      ],
      "metadata": {
        "colab": {
          "base_uri": "https://localhost:8080/"
        },
        "id": "ZnzvFE7ZSYyu",
        "outputId": "f6eb086a-8e69-47a2-822d-6adf52eb5efd"
      },
      "execution_count": 39,
      "outputs": [
        {
          "output_type": "stream",
          "name": "stderr",
          "text": [
            "[nltk_data] Downloading package stopwords to /root/nltk_data...\n",
            "[nltk_data]   Package stopwords is already up-to-date!\n"
          ]
        },
        {
          "output_type": "execute_result",
          "data": {
            "text/plain": [
              "True"
            ]
          },
          "metadata": {},
          "execution_count": 39
        }
      ]
    },
    {
      "cell_type": "code",
      "source": [
        "import nltk\n",
        "nltk.download('punkt')\n",
        "sentences = nltk.sent_tokenize(paragraph)"
      ],
      "metadata": {
        "colab": {
          "base_uri": "https://localhost:8080/"
        },
        "id": "sgxy9rixTHPT",
        "outputId": "81830b66-0688-4f2f-e734-fc190ee16f1f"
      },
      "execution_count": 40,
      "outputs": [
        {
          "output_type": "stream",
          "name": "stderr",
          "text": [
            "[nltk_data] Downloading package punkt to /root/nltk_data...\n",
            "[nltk_data]   Package punkt is already up-to-date!\n"
          ]
        }
      ]
    },
    {
      "cell_type": "code",
      "source": [
        "print(sentences)"
      ],
      "metadata": {
        "colab": {
          "base_uri": "https://localhost:8080/"
        },
        "id": "-_VIKhWnTZDj",
        "outputId": "00cc67a0-2d1b-4972-e453-4cc71fc91582"
      },
      "execution_count": 41,
      "outputs": [
        {
          "output_type": "stream",
          "name": "stdout",
          "text": [
            "['\\nI have three visions for India.', 'In 3000 years of our history, people from all over the world have come and invaded us, captured our lands, conquered our minds.', 'From Alexander onwards, the Greeks, the Turks, the Moguls, the Portuguese, the British, the French, the Dutch, all of them came and looted us, took over what was ours.', 'Yet we have not done this to any other nation.', 'We have not conquered anyone.', 'We have not grabbed their land, their culture, their history and tried to enforce our way of life on them.', 'Why?', 'Because we respect the freedom of others.', 'That is why my first vision is that of freedom.', 'I believe that India got its first vision of this in 1857, when we started the War of Independence.', 'It is this freedom that we must protect and nurture and build on.', 'If we are not free, no one will respect us.', 'My second vision for India’s development.', 'For fifty years we have been a developing nation.', 'It is time we see ourselves as a developed nation.', 'We are among the top 5 nations of the world in terms of GDP.', 'We have a 10 percent growth rate in most areas.', 'Our poverty levels are falling.', 'Our achievements are being globally recognised today.', 'Yet we lack the self-confidence to see ourselves as a developed nation, self-reliant and self-assured.', 'Isn’t this incorrect?', 'I have a third vision.', 'India must stand up to the world.', 'Because I believe that unless India stands up to the world, no one will respect us.', 'Only strength respects strength.', 'We must be strong not only as a military power but also as an economic power.', 'Both must go hand-in-hand.', 'My good fortune was to have worked with three great minds.', 'Dr. Vikram Sarabhai of the Dept.', 'of space, Professor Satish Dhawan, who succeeded him and Dr. Brahm Prakash, father of nuclear material.', 'I was lucky to have worked with all three of them closely and consider this the great opportunity of my life.', 'I see four milestones in my career:\\nTwenty years I spent in ISRO.', 'I was given the opportunity to be the project director for India’s first satellite launch vehicle, SLV3.', 'The one that launched Rohini.', 'These years played a very important role in my life of Scienc.', 'After my ISRO years, I joined DRDO and got a chance to be the part of India’s guided missile program.', 'It was my second bliss when Agni met its mission requirements in 1994.', 'The Dept.', 'of Atomic Energy and DRDO had this tremendous partnership in the recent nuclear tests, on May 11 and 13.', 'This was the third bliss.', 'The joy of participating with my team in these nuclear tests and proving to the world that India can make it, that we are no longer a developing nation but one of them.', 'It made me feel very proud as an Indian.', 'The fact that we have now developed for Agni a re-entry structure, for which we have developed this new material.', 'A very light material called carbon-carbon.', 'One day an orthopedic surgeon from Nizam Institute of Medical Sciences visited my laboratory.', 'He lifted the material and found it so light that he took me to his hospital and showed me his patients.', 'There were these little girls and boys with heavy metallic calipers weighing over three kg.', 'each, dragging their feet around.', 'He said to me : Please remove the pain of my patients.', 'In three weeks, we made these floor reaction Orthosis 300-gram calipers and took them to the orthopedic center.', 'The children didn’t believe their eyes.', 'From dragging around a three kg.', 'load on their legs, they could now move around!', 'Their parents had tears in their eyes.', 'That was my fourth bliss!', 'Why is the media here so negative?', 'Why are we in India so embarrassed to recognise our own strengths, our achievements?', 'We are such a great nation.', 'We have so many amazing success stories but we refuse to acknowledge them.', 'Why?', 'We are the first in milk production.We are number one in Remote sensing satellites.', 'We are the second largest producer of wheat.', 'We are the second largest producer of rice.', 'Look at Dr. Sudarshan, he has transformed the tribal village into a self-sustaining, self driving unit.', 'There are millions of such achievements but our media is only obsessed with bad news and failures and disasters.', 'I was in Tel Aviv once and I was reading the Israeli newspaper.', 'It was the day after a lot of attacks and bombardments and deaths had taken place.', 'The Hamas had struck.', 'But the front page of the newspaper had the picture of a Jewish gentleman who in five years had transformed his desert land into an orchid and a granary.', 'It was this inspiring picture that everyone woke up to.', 'The gory details of killings, bombardments, deaths, were inside in the newspaper, buried among other news.', 'In India we only read about death, sickness, terrorism, crime.', 'Why are we so NEGATIVE?', 'Another question : Why are we, as a nation so obsessed with foreign things?', 'We want foreign TVs, we want foreign shirts.', 'We want foreign technology.', 'Why this obsession with everything imported?', 'Do we not realize that self-respect comes with self-reliance?', 'I was in Hyderabad giving this lecture, when a 14 year old girl asked me for my autograph.', 'I asked her what her goal in life is.', 'She replied: I want to live in a developed India.', 'For her, you and I will have to build this developed India.', 'You must proclaim.', 'India is not an under-developed nation; it is a highly developed nation.', 'Do you have 10 minutes?', 'Allow me to come back with a vengeance.', 'Got 10 minutes for your country?', 'If yes, then read; otherwise, choice is yours.', 'YOU say that our laws']\n"
          ]
        }
      ]
    },
    {
      "cell_type": "code",
      "source": [
        "nltk.download('averaged_perceptron_tagger')"
      ],
      "metadata": {
        "colab": {
          "base_uri": "https://localhost:8080/"
        },
        "id": "CCi2g_rggX1W",
        "outputId": "1b55e776-348b-4d06-93fb-12cbd7832d17"
      },
      "execution_count": 42,
      "outputs": [
        {
          "output_type": "stream",
          "name": "stderr",
          "text": [
            "[nltk_data] Downloading package averaged_perceptron_tagger to\n",
            "[nltk_data]     /root/nltk_data...\n",
            "[nltk_data]   Package averaged_perceptron_tagger is already up-to-\n",
            "[nltk_data]       date!\n"
          ]
        },
        {
          "output_type": "execute_result",
          "data": {
            "text/plain": [
              "True"
            ]
          },
          "metadata": {},
          "execution_count": 42
        }
      ]
    },
    {
      "cell_type": "code",
      "source": [
        "\n",
        "#for i in range(len(sentences)):\n",
        " # words = nltk.word_tokenize(sentences[i])\n",
        "  #words = [word for word in words if word not in set(stopwords.words('english'))]\n",
        "  #pos_tag=nltk.pos_tag(words)\n",
        "  #print(pos_tag)"
      ],
      "metadata": {
        "id": "ZSDI_35iYLJh"
      },
      "execution_count": 43,
      "outputs": []
    },
    {
      "cell_type": "code",
      "source": [
        "example = \"India was a place once called golden bird\""
      ],
      "metadata": {
        "id": "eA19lOv0Y6JQ"
      },
      "execution_count": 44,
      "outputs": []
    },
    {
      "cell_type": "code",
      "source": [
        "print(nltk.pos_tag(example.split()))"
      ],
      "metadata": {
        "colab": {
          "base_uri": "https://localhost:8080/"
        },
        "id": "G1R7g1zVh-6b",
        "outputId": "694e7999-9ec6-4c8c-aa34-1d1312b4774f"
      },
      "execution_count": 49,
      "outputs": [
        {
          "output_type": "stream",
          "name": "stdout",
          "text": [
            "[('India', 'NNP'), ('is', 'VBZ'), ('a', 'DT'), ('place', 'NN'), ('called', 'VBN'), ('golden', 'JJ'), ('bird', 'NN')]\n"
          ]
        }
      ]
    },
    {
      "cell_type": "code",
      "source": [],
      "metadata": {
        "id": "7-KqnfRYiOrE"
      },
      "execution_count": 45,
      "outputs": []
    }
  ]
}