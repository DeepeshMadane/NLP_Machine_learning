{
  "nbformat": 4,
  "nbformat_minor": 0,
  "metadata": {
    "colab": {
      "provenance": [],
      "authorship_tag": "ABX9TyOnKYohHCrvEWrYKFfpe3XE",
      "include_colab_link": true
    },
    "kernelspec": {
      "name": "python3",
      "display_name": "Python 3"
    },
    "language_info": {
      "name": "python"
    }
  },
  "cells": [
    {
      "cell_type": "markdown",
      "metadata": {
        "id": "view-in-github",
        "colab_type": "text"
      },
      "source": [
        "<a href=\"https://colab.research.google.com/github/DeepeshMadane/NLP_Machine_learning/blob/main/name_entity_recognition.ipynb\" target=\"_parent\"><img src=\"https://colab.research.google.com/assets/colab-badge.svg\" alt=\"Open In Colab\"/></a>"
      ]
    },
    {
      "cell_type": "code",
      "execution_count": 1,
      "metadata": {
        "id": "5vK9_wnxzGJL"
      },
      "outputs": [],
      "source": [
        "import nltk"
      ]
    },
    {
      "cell_type": "code",
      "source": [
        "sentence = \"Constructed in 1889 for the World's Fair, it was initially met with criticism but has since become a beloved global icon. At night, the tower dazzles with a sparkling light show, making it a magical sight against the Parisian skyline.\""
      ],
      "metadata": {
        "id": "wulKi-33zLMI"
      },
      "execution_count": 2,
      "outputs": []
    },
    {
      "cell_type": "code",
      "source": [
        "nltk.download('punkt')"
      ],
      "metadata": {
        "colab": {
          "base_uri": "https://localhost:8080/"
        },
        "id": "lSElaCTDzixC",
        "outputId": "278015dd-8db3-480e-e67b-0c81dbedc61e"
      },
      "execution_count": 4,
      "outputs": [
        {
          "output_type": "stream",
          "name": "stderr",
          "text": [
            "[nltk_data] Downloading package punkt to /root/nltk_data...\n",
            "[nltk_data]   Unzipping tokenizers/punkt.zip.\n"
          ]
        },
        {
          "output_type": "execute_result",
          "data": {
            "text/plain": [
              "True"
            ]
          },
          "metadata": {},
          "execution_count": 4
        }
      ]
    },
    {
      "cell_type": "code",
      "source": [
        "words = nltk.word_tokenize(sentence)"
      ],
      "metadata": {
        "id": "8Afe8QUUzPxu"
      },
      "execution_count": 5,
      "outputs": []
    },
    {
      "cell_type": "code",
      "source": [
        "nltk.download('averaged_perceptron_tagger')"
      ],
      "metadata": {
        "colab": {
          "base_uri": "https://localhost:8080/"
        },
        "id": "1Hw7ZZhHzqD9",
        "outputId": "ee91a34a-b728-45aa-d85c-f08d1e6d45c3"
      },
      "execution_count": 7,
      "outputs": [
        {
          "output_type": "stream",
          "name": "stderr",
          "text": [
            "[nltk_data] Downloading package averaged_perceptron_tagger to\n",
            "[nltk_data]     /root/nltk_data...\n",
            "[nltk_data]   Unzipping taggers/averaged_perceptron_tagger.zip.\n"
          ]
        },
        {
          "output_type": "execute_result",
          "data": {
            "text/plain": [
              "True"
            ]
          },
          "metadata": {},
          "execution_count": 7
        }
      ]
    },
    {
      "cell_type": "code",
      "source": [
        "tag_elements = nltk.pos_tag(words)"
      ],
      "metadata": {
        "id": "qmtady0xzg4N"
      },
      "execution_count": 9,
      "outputs": []
    },
    {
      "cell_type": "code",
      "source": [
        "nltk.download('maxent_ne_chunker')"
      ],
      "metadata": {
        "colab": {
          "base_uri": "https://localhost:8080/"
        },
        "id": "Q6tQ2Stgz3K7",
        "outputId": "35a050c3-fc3a-4c02-cd3a-e7a8d9ab2cfb"
      },
      "execution_count": 11,
      "outputs": [
        {
          "output_type": "stream",
          "name": "stderr",
          "text": [
            "[nltk_data] Downloading package maxent_ne_chunker to\n",
            "[nltk_data]     /root/nltk_data...\n",
            "[nltk_data]   Unzipping chunkers/maxent_ne_chunker.zip.\n"
          ]
        },
        {
          "output_type": "execute_result",
          "data": {
            "text/plain": [
              "True"
            ]
          },
          "metadata": {},
          "execution_count": 11
        }
      ]
    },
    {
      "cell_type": "code",
      "source": [
        "nltk.download('words')"
      ],
      "metadata": {
        "colab": {
          "base_uri": "https://localhost:8080/"
        },
        "id": "mTlDdNEjz7QV",
        "outputId": "7fa763fc-3c0f-48f1-caf0-99a6db75c666"
      },
      "execution_count": 13,
      "outputs": [
        {
          "output_type": "stream",
          "name": "stderr",
          "text": [
            "[nltk_data] Downloading package words to /root/nltk_data...\n",
            "[nltk_data]   Unzipping corpora/words.zip.\n"
          ]
        },
        {
          "output_type": "execute_result",
          "data": {
            "text/plain": [
              "True"
            ]
          },
          "metadata": {},
          "execution_count": 13
        }
      ]
    },
    {
      "cell_type": "code",
      "source": [
        "print(nltk.ne_chunk(tag_elements))"
      ],
      "metadata": {
        "colab": {
          "base_uri": "https://localhost:8080/"
        },
        "id": "DL7AAStgznm2",
        "outputId": "f23b82d2-f126-4e10-aae0-2804d137cf84"
      },
      "execution_count": 20,
      "outputs": [
        {
          "output_type": "stream",
          "name": "stdout",
          "text": [
            "(S\n",
            "  Constructed/VBN\n",
            "  in/IN\n",
            "  1889/CD\n",
            "  for/IN\n",
            "  the/DT\n",
            "  (ORGANIZATION World/NNP)\n",
            "  's/POS\n",
            "  (PERSON Fair/NNP)\n",
            "  ,/,\n",
            "  it/PRP\n",
            "  was/VBD\n",
            "  initially/RB\n",
            "  met/VBN\n",
            "  with/IN\n",
            "  criticism/NN\n",
            "  but/CC\n",
            "  has/VBZ\n",
            "  since/IN\n",
            "  become/VBN\n",
            "  a/DT\n",
            "  beloved/JJ\n",
            "  global/JJ\n",
            "  icon/NN\n",
            "  ./.\n",
            "  At/IN\n",
            "  night/NN\n",
            "  ,/,\n",
            "  the/DT\n",
            "  tower/NN\n",
            "  dazzles/VBZ\n",
            "  with/IN\n",
            "  a/DT\n",
            "  sparkling/VBG\n",
            "  light/NN\n",
            "  show/NN\n",
            "  ,/,\n",
            "  making/VBG\n",
            "  it/PRP\n",
            "  a/DT\n",
            "  magical/JJ\n",
            "  sight/NN\n",
            "  against/IN\n",
            "  the/DT\n",
            "  (GPE Parisian/JJ)\n",
            "  skyline/NN\n",
            "  ./.)\n"
          ]
        }
      ]
    },
    {
      "cell_type": "code",
      "source": [],
      "metadata": {
        "id": "2mbZP2S-z1fd"
      },
      "execution_count": null,
      "outputs": []
    }
  ]
}