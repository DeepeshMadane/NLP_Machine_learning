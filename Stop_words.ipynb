{
  "nbformat": 4,
  "nbformat_minor": 0,
  "metadata": {
    "colab": {
      "provenance": [],
      "authorship_tag": "ABX9TyPYCeNIigTIjVDHBLxy+90e",
      "include_colab_link": true
    },
    "kernelspec": {
      "name": "python3",
      "display_name": "Python 3"
    },
    "language_info": {
      "name": "python"
    }
  },
  "cells": [
    {
      "cell_type": "markdown",
      "metadata": {
        "id": "view-in-github",
        "colab_type": "text"
      },
      "source": [
        "<a href=\"https://colab.research.google.com/github/DeepeshMadane/NLP_Machine_learning/blob/main/Stop_words.ipynb\" target=\"_parent\"><img src=\"https://colab.research.google.com/assets/colab-badge.svg\" alt=\"Open In Colab\"/></a>"
      ]
    },
    {
      "cell_type": "code",
      "execution_count": 57,
      "metadata": {
        "id": "j98B3b03Razm"
      },
      "outputs": [],
      "source": [
        "paragraph = \"\"\"\n",
        "I have three visions for India. In 3000 years of our history, people from all over the world have come and invaded us, captured our lands, conquered our minds. From Alexander onwards, the Greeks, the Turks, the Moguls, the Portuguese, the British, the French, the Dutch, all of them came and looted us, took over what was ours. Yet we have not done this to any other nation. We have not conquered anyone. We have not grabbed their land, their culture, their history and tried to enforce our way of life on them. Why? Because we respect the freedom of others.\n",
        "That is why my first vision is that of freedom. I believe that India got its first vision of this in 1857, when we started the War of Independence. It is this freedom that we must protect and nurture and build on. If we are not free, no one will respect us.\n",
        "My second vision for India’s development. For fifty years we have been a developing nation. It is time we see ourselves as a developed nation. We are among the top 5 nations of the world in terms of GDP. We have a 10 percent growth rate in most areas. Our poverty levels are falling. Our achievements are being globally recognised today. Yet we lack the self-confidence to see ourselves as a developed nation, self-reliant and self-assured. Isn’t this incorrect?\n",
        "I have a third vision. India must stand up to the world. Because I believe that unless India stands up to the world, no one will respect us. Only strength respects strength. We must be strong not only as a military power but also as an economic power. Both must go hand-in-hand. My good fortune was to have worked with three great minds. Dr. Vikram Sarabhai of the Dept. of space, Professor Satish Dhawan, who succeeded him and Dr. Brahm Prakash, father of nuclear material. I was lucky to have worked with all three of them closely and consider this the great opportunity of my life. I see four milestones in my career:\n",
        "Twenty years I spent in ISRO. I was given the opportunity to be the project director for India’s first satellite launch vehicle, SLV3. The one that launched Rohini. These years played a very important role in my life of Scienc. After my ISRO years, I joined DRDO and got a chance to be the part of India’s guided missile program. It was my second bliss when Agni met its mission requirements in 1994.\n",
        "The Dept. of Atomic Energy and DRDO had this tremendous partnership in the recent nuclear tests, on May 11 and 13. This was the third bliss. The joy of participating with my team in these nuclear tests and proving to the world that India can make it, that we are no longer a developing nation but one of them. It made me feel very proud as an Indian. The fact that we have now developed for Agni a re-entry structure, for which we have developed this new material. A very light material called carbon-carbon.\n",
        "One day an orthopedic surgeon from Nizam Institute of Medical Sciences visited my laboratory. He lifted the material and found it so light that he took me to his hospital and showed me his patients. There were these little girls and boys with heavy metallic calipers weighing over three kg. each, dragging their feet around.\n",
        "He said to me : Please remove the pain of my patients. In three weeks, we made these floor reaction Orthosis 300-gram calipers and took them to the orthopedic center. The children didn’t believe their eyes. From dragging around a three kg. load on their legs, they could now move around! Their parents had tears in their eyes. That was my fourth bliss!\n",
        "Why is the media here so negative? Why are we in India so embarrassed to recognise our own strengths, our achievements? We are such a great nation. We have so many amazing success stories but we refuse to acknowledge them. Why?\n",
        "We are the first in milk production.We are number one in Remote sensing satellites.\n",
        "We are the second largest producer of wheat.\n",
        "We are the second largest producer of rice.\n",
        "Look at Dr. Sudarshan, he has transformed the tribal village into a self-sustaining, self driving unit.\n",
        "There are millions of such achievements but our media is only obsessed with bad news and failures and disasters.\n",
        "I was in Tel Aviv once and I was reading the Israeli newspaper. It was the day after a lot of attacks and bombardments and deaths had taken place. The Hamas had struck. But the front page of the newspaper had the picture of a Jewish gentleman who in five years had transformed his desert land into an orchid and a granary.\n",
        "It was this inspiring picture that everyone woke up to. The gory details of killings, bombardments, deaths, were inside in the newspaper, buried among other news. In India we only read about death, sickness, terrorism, crime. Why are we so NEGATIVE?\n",
        "Another question : Why are we, as a nation so obsessed with foreign things? We want foreign TVs, we want foreign shirts. We want foreign technology. Why this obsession with everything imported? Do we not realize that self-respect comes with self-reliance? I was in Hyderabad giving this lecture, when a 14 year old girl asked me for my autograph. I asked her what her goal in life is. She replied: I want to live in a developed India. For her, you and I will have to build this developed India. You must proclaim. India is not an under-developed nation; it is a highly developed nation.\n",
        "Do you have 10 minutes? Allow me to come back with a vengeance. Got 10 minutes for your country? If yes, then read; otherwise, choice is yours.\n",
        "YOU say that our laws\n",
        "\"\"\""
      ]
    },
    {
      "cell_type": "code",
      "source": [
        "from nltk.stem import PorterStemmer\n"
      ],
      "metadata": {
        "id": "huvyObuxSHJv"
      },
      "execution_count": 41,
      "outputs": []
    },
    {
      "cell_type": "code",
      "source": [
        "from nltk.corpus import stopwords"
      ],
      "metadata": {
        "id": "JgJdAnntSSrk"
      },
      "execution_count": 58,
      "outputs": []
    },
    {
      "cell_type": "code",
      "source": [
        "import nltk\n",
        "nltk.download('stopwords')"
      ],
      "metadata": {
        "colab": {
          "base_uri": "https://localhost:8080/"
        },
        "id": "ZnzvFE7ZSYyu",
        "outputId": "06ed7f24-3da2-4ec7-9fdc-1c9ba115ce96"
      },
      "execution_count": 43,
      "outputs": [
        {
          "output_type": "stream",
          "name": "stderr",
          "text": [
            "[nltk_data] Downloading package stopwords to /root/nltk_data...\n",
            "[nltk_data]   Package stopwords is already up-to-date!\n"
          ]
        },
        {
          "output_type": "execute_result",
          "data": {
            "text/plain": [
              "True"
            ]
          },
          "metadata": {},
          "execution_count": 43
        }
      ]
    },
    {
      "cell_type": "code",
      "source": [
        "stopwords.words('english')"
      ],
      "metadata": {
        "colab": {
          "base_uri": "https://localhost:8080/"
        },
        "id": "IWY8pKGBSdLf",
        "outputId": "7baab2ae-28e9-483c-96a0-59d797819bec"
      },
      "execution_count": 44,
      "outputs": [
        {
          "output_type": "execute_result",
          "data": {
            "text/plain": [
              "['i',\n",
              " 'me',\n",
              " 'my',\n",
              " 'myself',\n",
              " 'we',\n",
              " 'our',\n",
              " 'ours',\n",
              " 'ourselves',\n",
              " 'you',\n",
              " \"you're\",\n",
              " \"you've\",\n",
              " \"you'll\",\n",
              " \"you'd\",\n",
              " 'your',\n",
              " 'yours',\n",
              " 'yourself',\n",
              " 'yourselves',\n",
              " 'he',\n",
              " 'him',\n",
              " 'his',\n",
              " 'himself',\n",
              " 'she',\n",
              " \"she's\",\n",
              " 'her',\n",
              " 'hers',\n",
              " 'herself',\n",
              " 'it',\n",
              " \"it's\",\n",
              " 'its',\n",
              " 'itself',\n",
              " 'they',\n",
              " 'them',\n",
              " 'their',\n",
              " 'theirs',\n",
              " 'themselves',\n",
              " 'what',\n",
              " 'which',\n",
              " 'who',\n",
              " 'whom',\n",
              " 'this',\n",
              " 'that',\n",
              " \"that'll\",\n",
              " 'these',\n",
              " 'those',\n",
              " 'am',\n",
              " 'is',\n",
              " 'are',\n",
              " 'was',\n",
              " 'were',\n",
              " 'be',\n",
              " 'been',\n",
              " 'being',\n",
              " 'have',\n",
              " 'has',\n",
              " 'had',\n",
              " 'having',\n",
              " 'do',\n",
              " 'does',\n",
              " 'did',\n",
              " 'doing',\n",
              " 'a',\n",
              " 'an',\n",
              " 'the',\n",
              " 'and',\n",
              " 'but',\n",
              " 'if',\n",
              " 'or',\n",
              " 'because',\n",
              " 'as',\n",
              " 'until',\n",
              " 'while',\n",
              " 'of',\n",
              " 'at',\n",
              " 'by',\n",
              " 'for',\n",
              " 'with',\n",
              " 'about',\n",
              " 'against',\n",
              " 'between',\n",
              " 'into',\n",
              " 'through',\n",
              " 'during',\n",
              " 'before',\n",
              " 'after',\n",
              " 'above',\n",
              " 'below',\n",
              " 'to',\n",
              " 'from',\n",
              " 'up',\n",
              " 'down',\n",
              " 'in',\n",
              " 'out',\n",
              " 'on',\n",
              " 'off',\n",
              " 'over',\n",
              " 'under',\n",
              " 'again',\n",
              " 'further',\n",
              " 'then',\n",
              " 'once',\n",
              " 'here',\n",
              " 'there',\n",
              " 'when',\n",
              " 'where',\n",
              " 'why',\n",
              " 'how',\n",
              " 'all',\n",
              " 'any',\n",
              " 'both',\n",
              " 'each',\n",
              " 'few',\n",
              " 'more',\n",
              " 'most',\n",
              " 'other',\n",
              " 'some',\n",
              " 'such',\n",
              " 'no',\n",
              " 'nor',\n",
              " 'not',\n",
              " 'only',\n",
              " 'own',\n",
              " 'same',\n",
              " 'so',\n",
              " 'than',\n",
              " 'too',\n",
              " 'very',\n",
              " 's',\n",
              " 't',\n",
              " 'can',\n",
              " 'will',\n",
              " 'just',\n",
              " 'don',\n",
              " \"don't\",\n",
              " 'should',\n",
              " \"should've\",\n",
              " 'now',\n",
              " 'd',\n",
              " 'll',\n",
              " 'm',\n",
              " 'o',\n",
              " 're',\n",
              " 've',\n",
              " 'y',\n",
              " 'ain',\n",
              " 'aren',\n",
              " \"aren't\",\n",
              " 'couldn',\n",
              " \"couldn't\",\n",
              " 'didn',\n",
              " \"didn't\",\n",
              " 'doesn',\n",
              " \"doesn't\",\n",
              " 'hadn',\n",
              " \"hadn't\",\n",
              " 'hasn',\n",
              " \"hasn't\",\n",
              " 'haven',\n",
              " \"haven't\",\n",
              " 'isn',\n",
              " \"isn't\",\n",
              " 'ma',\n",
              " 'mightn',\n",
              " \"mightn't\",\n",
              " 'mustn',\n",
              " \"mustn't\",\n",
              " 'needn',\n",
              " \"needn't\",\n",
              " 'shan',\n",
              " \"shan't\",\n",
              " 'shouldn',\n",
              " \"shouldn't\",\n",
              " 'wasn',\n",
              " \"wasn't\",\n",
              " 'weren',\n",
              " \"weren't\",\n",
              " 'won',\n",
              " \"won't\",\n",
              " 'wouldn',\n",
              " \"wouldn't\"]"
            ]
          },
          "metadata": {},
          "execution_count": 44
        }
      ]
    },
    {
      "cell_type": "code",
      "source": [
        "stemmer = PorterStemmer()"
      ],
      "metadata": {
        "id": "gobuKNCYSmQA"
      },
      "execution_count": 45,
      "outputs": []
    },
    {
      "cell_type": "code",
      "source": [
        "import nltk\n",
        "nltk.download('punkt')\n",
        "sentences = nltk.sent_tokenize(paragraph)"
      ],
      "metadata": {
        "colab": {
          "base_uri": "https://localhost:8080/"
        },
        "id": "sgxy9rixTHPT",
        "outputId": "7e009a94-98aa-4671-ee5e-55c8cc221c26"
      },
      "execution_count": 59,
      "outputs": [
        {
          "output_type": "stream",
          "name": "stderr",
          "text": [
            "[nltk_data] Downloading package punkt to /root/nltk_data...\n",
            "[nltk_data]   Package punkt is already up-to-date!\n"
          ]
        }
      ]
    },
    {
      "cell_type": "code",
      "source": [
        "print(sentences)"
      ],
      "metadata": {
        "colab": {
          "base_uri": "https://localhost:8080/"
        },
        "id": "-_VIKhWnTZDj",
        "outputId": "4425c86b-68e0-4166-cdde-12afa1012633"
      },
      "execution_count": 47,
      "outputs": [
        {
          "output_type": "stream",
          "name": "stdout",
          "text": [
            "['\\nI have three visions for India.', 'In 3000 years of our history, people from all over the world have come and invaded us, captured our lands, conquered our minds.', 'From Alexander onwards, the Greeks, the Turks, the Moguls, the Portuguese, the British, the French, the Dutch, all of them came and looted us, took over what was ours.', 'Yet we have not done this to any other nation.', 'We have not conquered anyone.', 'We have not grabbed their land, their culture, their history and tried to enforce our way of life on them.', 'Why?', 'Because we respect the freedom of others.', 'That is why my first vision is that of freedom.', 'I believe that India got its first vision of this in 1857, when we started the War of Independence.', 'It is this freedom that we must protect and nurture and build on.', 'If we are not free, no one will respect us.', 'My second vision for India’s development.', 'For fifty years we have been a developing nation.', 'It is time we see ourselves as a developed nation.', 'We are among the top 5 nations of the world in terms of GDP.', 'We have a 10 percent growth rate in most areas.', 'Our poverty levels are falling.', 'Our achievements are being globally recognised today.', 'Yet we lack the self-confidence to see ourselves as a developed nation, self-reliant and self-assured.', 'Isn’t this incorrect?', 'I have a third vision.', 'India must stand up to the world.', 'Because I believe that unless India stands up to the world, no one will respect us.', 'Only strength respects strength.', 'We must be strong not only as a military power but also as an economic power.', 'Both must go hand-in-hand.', 'My good fortune was to have worked with three great minds.', 'Dr. Vikram Sarabhai of the Dept.', 'of space, Professor Satish Dhawan, who succeeded him and Dr. Brahm Prakash, father of nuclear material.', 'I was lucky to have worked with all three of them closely and consider this the great opportunity of my life.', 'I see four milestones in my career:\\nTwenty years I spent in ISRO.', 'I was given the opportunity to be the project director for India’s first satellite launch vehicle, SLV3.', 'The one that launched Rohini.', 'These years played a very important role in my life of Scienc.', 'After my ISRO years, I joined DRDO and got a chance to be the part of India’s guided missile program.', 'It was my second bliss when Agni met its mission requirements in 1994.', 'The Dept.', 'of Atomic Energy and DRDO had this tremendous partnership in the recent nuclear tests, on May 11 and 13.', 'This was the third bliss.', 'The joy of participating with my team in these nuclear tests and proving to the world that India can make it, that we are no longer a developing nation but one of them.', 'It made me feel very proud as an Indian.', 'The fact that we have now developed for Agni a re-entry structure, for which we have developed this new material.', 'A very light material called carbon-carbon.', 'One day an orthopedic surgeon from Nizam Institute of Medical Sciences visited my laboratory.', 'He lifted the material and found it so light that he took me to his hospital and showed me his patients.', 'There were these little girls and boys with heavy metallic calipers weighing over three kg.', 'each, dragging their feet around.', 'He said to me : Please remove the pain of my patients.', 'In three weeks, we made these floor reaction Orthosis 300-gram calipers and took them to the orthopedic center.', 'The children didn’t believe their eyes.', 'From dragging around a three kg.', 'load on their legs, they could now move around!', 'Their parents had tears in their eyes.', 'That was my fourth bliss!', 'Why is the media here so negative?', 'Why are we in India so embarrassed to recognise our own strengths, our achievements?', 'We are such a great nation.', 'We have so many amazing success stories but we refuse to acknowledge them.', 'Why?', 'We are the first in milk production.We are number one in Remote sensing satellites.', 'We are the second largest producer of wheat.', 'We are the second largest producer of rice.', 'Look at Dr. Sudarshan, he has transformed the tribal village into a self-sustaining, self driving unit.', 'There are millions of such achievements but our media is only obsessed with bad news and failures and disasters.', 'I was in Tel Aviv once and I was reading the Israeli newspaper.', 'It was the day after a lot of attacks and bombardments and deaths had taken place.', 'The Hamas had struck.', 'But the front page of the newspaper had the picture of a Jewish gentleman who in five years had transformed his desert land into an orchid and a granary.', 'It was this inspiring picture that everyone woke up to.', 'The gory details of killings, bombardments, deaths, were inside in the newspaper, buried among other news.', 'In India we only read about death, sickness, terrorism, crime.', 'Why are we so NEGATIVE?', 'Another question : Why are we, as a nation so obsessed with foreign things?', 'We want foreign TVs, we want foreign shirts.', 'We want foreign technology.', 'Why this obsession with everything imported?', 'Do we not realize that self-respect comes with self-reliance?', 'I was in Hyderabad giving this lecture, when a 14 year old girl asked me for my autograph.', 'I asked her what her goal in life is.', 'She replied: I want to live in a developed India.', 'For her, you and I will have to build this developed India.', 'You must proclaim.', 'India is not an under-developed nation; it is a highly developed nation.', 'Do you have 10 minutes?', 'Allow me to come back with a vengeance.', 'Got 10 minutes for your country?', 'If yes, then read; otherwise, choice is yours.', 'YOU say that our laws']\n"
          ]
        }
      ]
    },
    {
      "cell_type": "code",
      "source": [
        "## apply stopwords and filter and then apply stemming\n",
        "\n",
        "#for i in range(len(sentences)):\n",
        " # words = nltk.word_tokenize(sentences[i])\n",
        "  #words = [stemmer.stem(word)for word in words if word not in stopwords.words('english')]\n",
        "  #sentences[i] = ' '.join(words)"
      ],
      "metadata": {
        "id": "QfYmJrxOUEyQ"
      },
      "execution_count": 48,
      "outputs": []
    },
    {
      "cell_type": "code",
      "source": [
        "# not perfect stemming\n",
        "sentences"
      ],
      "metadata": {
        "colab": {
          "base_uri": "https://localhost:8080/"
        },
        "id": "2ty4xuCvV3MC",
        "outputId": "435b4606-a9ad-47d4-afe2-3d5980a09c91"
      },
      "execution_count": 49,
      "outputs": [
        {
          "output_type": "execute_result",
          "data": {
            "text/plain": [
              "['\\nI have three visions for India.',\n",
              " 'In 3000 years of our history, people from all over the world have come and invaded us, captured our lands, conquered our minds.',\n",
              " 'From Alexander onwards, the Greeks, the Turks, the Moguls, the Portuguese, the British, the French, the Dutch, all of them came and looted us, took over what was ours.',\n",
              " 'Yet we have not done this to any other nation.',\n",
              " 'We have not conquered anyone.',\n",
              " 'We have not grabbed their land, their culture, their history and tried to enforce our way of life on them.',\n",
              " 'Why?',\n",
              " 'Because we respect the freedom of others.',\n",
              " 'That is why my first vision is that of freedom.',\n",
              " 'I believe that India got its first vision of this in 1857, when we started the War of Independence.',\n",
              " 'It is this freedom that we must protect and nurture and build on.',\n",
              " 'If we are not free, no one will respect us.',\n",
              " 'My second vision for India’s development.',\n",
              " 'For fifty years we have been a developing nation.',\n",
              " 'It is time we see ourselves as a developed nation.',\n",
              " 'We are among the top 5 nations of the world in terms of GDP.',\n",
              " 'We have a 10 percent growth rate in most areas.',\n",
              " 'Our poverty levels are falling.',\n",
              " 'Our achievements are being globally recognised today.',\n",
              " 'Yet we lack the self-confidence to see ourselves as a developed nation, self-reliant and self-assured.',\n",
              " 'Isn’t this incorrect?',\n",
              " 'I have a third vision.',\n",
              " 'India must stand up to the world.',\n",
              " 'Because I believe that unless India stands up to the world, no one will respect us.',\n",
              " 'Only strength respects strength.',\n",
              " 'We must be strong not only as a military power but also as an economic power.',\n",
              " 'Both must go hand-in-hand.',\n",
              " 'My good fortune was to have worked with three great minds.',\n",
              " 'Dr. Vikram Sarabhai of the Dept.',\n",
              " 'of space, Professor Satish Dhawan, who succeeded him and Dr. Brahm Prakash, father of nuclear material.',\n",
              " 'I was lucky to have worked with all three of them closely and consider this the great opportunity of my life.',\n",
              " 'I see four milestones in my career:\\nTwenty years I spent in ISRO.',\n",
              " 'I was given the opportunity to be the project director for India’s first satellite launch vehicle, SLV3.',\n",
              " 'The one that launched Rohini.',\n",
              " 'These years played a very important role in my life of Scienc.',\n",
              " 'After my ISRO years, I joined DRDO and got a chance to be the part of India’s guided missile program.',\n",
              " 'It was my second bliss when Agni met its mission requirements in 1994.',\n",
              " 'The Dept.',\n",
              " 'of Atomic Energy and DRDO had this tremendous partnership in the recent nuclear tests, on May 11 and 13.',\n",
              " 'This was the third bliss.',\n",
              " 'The joy of participating with my team in these nuclear tests and proving to the world that India can make it, that we are no longer a developing nation but one of them.',\n",
              " 'It made me feel very proud as an Indian.',\n",
              " 'The fact that we have now developed for Agni a re-entry structure, for which we have developed this new material.',\n",
              " 'A very light material called carbon-carbon.',\n",
              " 'One day an orthopedic surgeon from Nizam Institute of Medical Sciences visited my laboratory.',\n",
              " 'He lifted the material and found it so light that he took me to his hospital and showed me his patients.',\n",
              " 'There were these little girls and boys with heavy metallic calipers weighing over three kg.',\n",
              " 'each, dragging their feet around.',\n",
              " 'He said to me : Please remove the pain of my patients.',\n",
              " 'In three weeks, we made these floor reaction Orthosis 300-gram calipers and took them to the orthopedic center.',\n",
              " 'The children didn’t believe their eyes.',\n",
              " 'From dragging around a three kg.',\n",
              " 'load on their legs, they could now move around!',\n",
              " 'Their parents had tears in their eyes.',\n",
              " 'That was my fourth bliss!',\n",
              " 'Why is the media here so negative?',\n",
              " 'Why are we in India so embarrassed to recognise our own strengths, our achievements?',\n",
              " 'We are such a great nation.',\n",
              " 'We have so many amazing success stories but we refuse to acknowledge them.',\n",
              " 'Why?',\n",
              " 'We are the first in milk production.We are number one in Remote sensing satellites.',\n",
              " 'We are the second largest producer of wheat.',\n",
              " 'We are the second largest producer of rice.',\n",
              " 'Look at Dr. Sudarshan, he has transformed the tribal village into a self-sustaining, self driving unit.',\n",
              " 'There are millions of such achievements but our media is only obsessed with bad news and failures and disasters.',\n",
              " 'I was in Tel Aviv once and I was reading the Israeli newspaper.',\n",
              " 'It was the day after a lot of attacks and bombardments and deaths had taken place.',\n",
              " 'The Hamas had struck.',\n",
              " 'But the front page of the newspaper had the picture of a Jewish gentleman who in five years had transformed his desert land into an orchid and a granary.',\n",
              " 'It was this inspiring picture that everyone woke up to.',\n",
              " 'The gory details of killings, bombardments, deaths, were inside in the newspaper, buried among other news.',\n",
              " 'In India we only read about death, sickness, terrorism, crime.',\n",
              " 'Why are we so NEGATIVE?',\n",
              " 'Another question : Why are we, as a nation so obsessed with foreign things?',\n",
              " 'We want foreign TVs, we want foreign shirts.',\n",
              " 'We want foreign technology.',\n",
              " 'Why this obsession with everything imported?',\n",
              " 'Do we not realize that self-respect comes with self-reliance?',\n",
              " 'I was in Hyderabad giving this lecture, when a 14 year old girl asked me for my autograph.',\n",
              " 'I asked her what her goal in life is.',\n",
              " 'She replied: I want to live in a developed India.',\n",
              " 'For her, you and I will have to build this developed India.',\n",
              " 'You must proclaim.',\n",
              " 'India is not an under-developed nation; it is a highly developed nation.',\n",
              " 'Do you have 10 minutes?',\n",
              " 'Allow me to come back with a vengeance.',\n",
              " 'Got 10 minutes for your country?',\n",
              " 'If yes, then read; otherwise, choice is yours.',\n",
              " 'YOU say that our laws']"
            ]
          },
          "metadata": {},
          "execution_count": 49
        }
      ]
    },
    {
      "cell_type": "code",
      "source": [
        "# same thing just apply snowball stemming\n",
        "##from nltk.stem import SnowballStemmer"
      ],
      "metadata": {
        "id": "6kD8IfFnV43i"
      },
      "execution_count": 50,
      "outputs": []
    },
    {
      "cell_type": "code",
      "source": [
        "##snow = SnowballStemmer('english')"
      ],
      "metadata": {
        "id": "ci1tJ2oRWSoc"
      },
      "execution_count": 51,
      "outputs": []
    },
    {
      "cell_type": "code",
      "source": [
        "##for i in range(len(sentences)):\n",
        "  ##words = nltk.word_tokenize(sentences[i])\n",
        "  ##words = [snow.stem(word)for word in words if word not in stopwords.words('english')]\n",
        " ## sentences[i]=' '.join(words)\n"
      ],
      "metadata": {
        "id": "nNXPZYQeWdWx"
      },
      "execution_count": 55,
      "outputs": []
    },
    {
      "cell_type": "code",
      "source": [
        "##sentences"
      ],
      "metadata": {
        "colab": {
          "base_uri": "https://localhost:8080/"
        },
        "id": "a_8OBs3QXDaH",
        "outputId": "c2cf2e99-e7e2-4fbc-dc6b-9fb8d2640d30"
      },
      "execution_count": 56,
      "outputs": [
        {
          "output_type": "execute_result",
          "data": {
            "text/plain": [
              "['i three vision india .',\n",
              " 'in 3000 year histori , peopl world come invad us , captur land , conquer mind .',\n",
              " 'from alexand onward , greek , turk , mogul , portugues , british , french , dutch , came loot us , took .',\n",
              " 'yet done nation .',\n",
              " 'we conquer anyon .',\n",
              " 'we grab land , cultur , histori tri enforc way life .',\n",
              " 'whi ?',\n",
              " 'becaus respect freedom other .',\n",
              " 'that first vision freedom .',\n",
              " 'i believ india got first vision 1857 , start war independ .',\n",
              " 'it freedom must protect nurtur build .',\n",
              " 'if free , one respect us .',\n",
              " 'my second vision india ’ develop .',\n",
              " 'for fifti year develop nation .',\n",
              " 'it time see develop nation .',\n",
              " 'we among top 5 nation world term gdp .',\n",
              " 'we 10 percent growth rate area .',\n",
              " 'our poverti level fall .',\n",
              " 'our achiev global recognis today .',\n",
              " 'yet lack self-confid see develop nation , self-reli self-assur .',\n",
              " 'isn ’ incorrect ?',\n",
              " 'i third vision .',\n",
              " 'india must stand world .',\n",
              " 'becaus i believ unless india stand world , one respect us .',\n",
              " 'onli strength respect strength .',\n",
              " 'we must strong militari power also econom power .',\n",
              " 'both must go hand-in-hand .',\n",
              " 'my good fortun work three great mind .',\n",
              " 'dr. vikram sarabhai dept .',\n",
              " 'space , professor satish dhawan , succeed dr. brahm prakash , father nuclear materi .',\n",
              " 'i lucki work three close consid great opportun life .',\n",
              " 'i see four mileston career : twenti year i spent isro .',\n",
              " 'i given opportun project director india ’ first satellit launch vehicl , slv3 .',\n",
              " 'the one launch rohini .',\n",
              " 'these year play import role life scienc .',\n",
              " 'after isro year , i join drdo got chanc part india ’ guid missil program .',\n",
              " 'it second bliss agni met mission requir 1994 .',\n",
              " 'the dept .',\n",
              " 'atom energi drdo tremend partnership recent nuclear test , may 11 13 .',\n",
              " 'this third bliss .',\n",
              " 'the joy particip team nuclear test prove world india make , longer develop nation one .',\n",
              " 'it made feel proud indian .',\n",
              " 'the fact develop agni re-entri structur , develop new materi .',\n",
              " 'a light materi call carbon-carbon .',\n",
              " 'one day orthoped surgeon nizam institut medic scienc visit laboratori .',\n",
              " 'he lift materi found light took hospit show patient .',\n",
              " 'there littl girl boy heavi metal calip weigh three kg .',\n",
              " ', drag feet around .',\n",
              " 'he said : pleas remov pain patient .',\n",
              " 'in three week , made floor reaction orthosi 300-gram calip took orthoped center .',\n",
              " 'the children ’ believ eye .',\n",
              " 'from drag around three kg .',\n",
              " 'load leg , could move around !',\n",
              " 'their parent tear eye .',\n",
              " 'that fourth bliss !',\n",
              " 'whi media negat ?',\n",
              " 'whi india embarrass recognis strength , achiev ?',\n",
              " 'we great nation .',\n",
              " 'we mani amaz success stori refus acknowledg .',\n",
              " 'whi ?',\n",
              " 'we first milk production.w number one remot sens satellit .',\n",
              " 'we second largest produc wheat .',\n",
              " 'we second largest produc rice .',\n",
              " 'look dr. sudarshan , transform tribal villag self-sustain , self drive unit .',\n",
              " 'there million achiev media obsess bad news failur disast .',\n",
              " 'i tel aviv i read isra newspap .',\n",
              " 'it day lot attack bombard death taken place .',\n",
              " 'the hama struck .',\n",
              " 'but front page newspap pictur jewish gentleman five year transform desert land orchid granari .',\n",
              " 'it inspir pictur everyon woke .',\n",
              " 'the gori detail kill , bombard , death , insid newspap , buri among news .',\n",
              " 'in india read death , sick , terror , crime .',\n",
              " 'whi negat ?',\n",
              " 'anoth question : whi , nation obsess foreign thing ?',\n",
              " 'we want foreign tvs , want foreign shirt .',\n",
              " 'we want foreign technolog .',\n",
              " 'whi obsess everyth import ?',\n",
              " 'do realiz self-respect come self-reli ?',\n",
              " 'i hyderabad give lectur , 14 year old girl ask autograph .',\n",
              " 'i ask goal life .',\n",
              " 'she repli : i want live develop india .',\n",
              " 'for , i build develop india .',\n",
              " 'you must proclaim .',\n",
              " 'india under-develop nation ; high develop nation .',\n",
              " 'do 10 minut ?',\n",
              " 'allow come back vengeanc .',\n",
              " 'got 10 minut countri ?',\n",
              " 'if yes , read ; otherwis , choic .',\n",
              " 'you say law']"
            ]
          },
          "metadata": {},
          "execution_count": 56
        }
      ]
    },
    {
      "cell_type": "markdown",
      "source": [
        "# from lemmatizer"
      ],
      "metadata": {
        "id": "Ijc6gOcmYFOU"
      }
    },
    {
      "cell_type": "code",
      "source": [
        "from nltk.stem import WordNetLemmatizer"
      ],
      "metadata": {
        "id": "ftFllrgHYAdh"
      },
      "execution_count": 60,
      "outputs": []
    },
    {
      "cell_type": "code",
      "source": [
        "lemmentizer = WordNetLemmatizer()"
      ],
      "metadata": {
        "id": "t2Oph10tYAaB"
      },
      "execution_count": 61,
      "outputs": []
    },
    {
      "cell_type": "code",
      "source": [
        "import nltk\n",
        "nltk.download('wordnet')\n",
        "for i in range(len(sentences)):\n",
        "  words = nltk.word_tokenize(sentences[i])\n",
        "  words = [lemmentizer.lemmatize(word.lower())for word in words if word not in stopwords.words('english')]\n",
        "  sentences[i] = ' '.join(words)"
      ],
      "metadata": {
        "colab": {
          "base_uri": "https://localhost:8080/"
        },
        "id": "ZSDI_35iYLJh",
        "outputId": "ce6f925d-c2ec-481e-9770-d93711451a3c"
      },
      "execution_count": 65,
      "outputs": [
        {
          "output_type": "stream",
          "name": "stderr",
          "text": [
            "[nltk_data] Downloading package wordnet to /root/nltk_data...\n",
            "[nltk_data]   Package wordnet is already up-to-date!\n"
          ]
        }
      ]
    },
    {
      "cell_type": "code",
      "source": [
        "sentences"
      ],
      "metadata": {
        "colab": {
          "base_uri": "https://localhost:8080/"
        },
        "id": "2BnBjvsEYycp",
        "outputId": "c7cdbbde-14f4-440c-e829-560b693e187c"
      },
      "execution_count": 66,
      "outputs": [
        {
          "output_type": "execute_result",
          "data": {
            "text/plain": [
              "['i three vision india .',\n",
              " 'in 3000 year history , people world come invaded u , captured land , conquered mind .',\n",
              " 'from alexander onwards , greek , turk , mogul , portuguese , british , french , dutch , came looted u , took .',\n",
              " 'yet done nation .',\n",
              " 'we conquered anyone .',\n",
              " 'we grabbed land , culture , history tried enforce way life .',\n",
              " 'why ?',\n",
              " 'because respect freedom others .',\n",
              " 'that first vision freedom .',\n",
              " 'i believe india got first vision 1857 , started war independence .',\n",
              " 'it freedom must protect nurture build .',\n",
              " 'if free , one respect u .',\n",
              " 'my second vision india ’ development .',\n",
              " 'for fifty year developing nation .',\n",
              " 'it time see developed nation .',\n",
              " 'we among top 5 nation world term gdp .',\n",
              " 'we 10 percent growth rate area .',\n",
              " 'our poverty level falling .',\n",
              " 'our achievement globally recognised today .',\n",
              " 'yet lack self-confidence see developed nation , self-reliant self-assured .',\n",
              " 'isn ’ incorrect ?',\n",
              " 'i third vision .',\n",
              " 'india must stand world .',\n",
              " 'because i believe unless india stand world , one respect u .',\n",
              " 'only strength respect strength .',\n",
              " 'we must strong military power also economic power .',\n",
              " 'both must go hand-in-hand .',\n",
              " 'my good fortune worked three great mind .',\n",
              " 'dr. vikram sarabhai dept .',\n",
              " 'space , professor satish dhawan , succeeded dr. brahm prakash , father nuclear material .',\n",
              " 'i lucky worked three closely consider great opportunity life .',\n",
              " 'i see four milestone career : twenty year i spent isro .',\n",
              " 'i given opportunity project director india ’ first satellite launch vehicle , slv3 .',\n",
              " 'the one launched rohini .',\n",
              " 'these year played important role life scienc .',\n",
              " 'after isro year , i joined drdo got chance part india ’ guided missile program .',\n",
              " 'it second bliss agni met mission requirement 1994 .',\n",
              " 'the dept .',\n",
              " 'atomic energy drdo tremendous partnership recent nuclear test , may 11 13 .',\n",
              " 'this third bliss .',\n",
              " 'the joy participating team nuclear test proving world india make , longer developing nation one .',\n",
              " 'it made feel proud indian .',\n",
              " 'the fact developed agni re-entry structure , developed new material .',\n",
              " 'a light material called carbon-carbon .',\n",
              " 'one day orthopedic surgeon nizam institute medical science visited laboratory .',\n",
              " 'he lifted material found light took hospital showed patient .',\n",
              " 'there little girl boy heavy metallic caliper weighing three kg .',\n",
              " ', dragging foot around .',\n",
              " 'he said : please remove pain patient .',\n",
              " 'in three week , made floor reaction orthosis 300-gram caliper took orthopedic center .',\n",
              " 'the child ’ believe eye .',\n",
              " 'from dragging around three kg .',\n",
              " 'load leg , could move around !',\n",
              " 'their parent tear eye .',\n",
              " 'that fourth bliss !',\n",
              " 'why medium negative ?',\n",
              " 'why india embarrassed recognise strength , achievement ?',\n",
              " 'we great nation .',\n",
              " 'we many amazing success story refuse acknowledge .',\n",
              " 'why ?',\n",
              " 'we first milk production.we number one remote sensing satellite .',\n",
              " 'we second largest producer wheat .',\n",
              " 'we second largest producer rice .',\n",
              " 'look dr. sudarshan , transformed tribal village self-sustaining , self driving unit .',\n",
              " 'there million achievement medium obsessed bad news failure disaster .',\n",
              " 'i tel aviv i reading israeli newspaper .',\n",
              " 'it day lot attack bombardment death taken place .',\n",
              " 'the hamas struck .',\n",
              " 'but front page newspaper picture jewish gentleman five year transformed desert land orchid granary .',\n",
              " 'it inspiring picture everyone woke .',\n",
              " 'the gory detail killing , bombardment , death , inside newspaper , buried among news .',\n",
              " 'in india read death , sickness , terrorism , crime .',\n",
              " 'why negative ?',\n",
              " 'another question : why , nation obsessed foreign thing ?',\n",
              " 'we want foreign tv , want foreign shirt .',\n",
              " 'we want foreign technology .',\n",
              " 'why obsession everything imported ?',\n",
              " 'do realize self-respect come self-reliance ?',\n",
              " 'i hyderabad giving lecture , 14 year old girl asked autograph .',\n",
              " 'i asked goal life .',\n",
              " 'she replied : i want live developed india .',\n",
              " 'for , i build developed india .',\n",
              " 'you must proclaim .',\n",
              " 'india under-developed nation ; highly developed nation .',\n",
              " 'do 10 minute ?',\n",
              " 'allow come back vengeance .',\n",
              " 'got 10 minute country ?',\n",
              " 'if yes , read ; otherwise , choice .',\n",
              " 'you say law']"
            ]
          },
          "metadata": {},
          "execution_count": 66
        }
      ]
    },
    {
      "cell_type": "code",
      "source": [],
      "metadata": {
        "id": "eA19lOv0Y6JQ"
      },
      "execution_count": null,
      "outputs": []
    }
  ]
}