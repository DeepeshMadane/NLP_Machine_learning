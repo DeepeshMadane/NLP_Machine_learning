{
  "nbformat": 4,
  "nbformat_minor": 0,
  "metadata": {
    "colab": {
      "provenance": []
    },
    "kernelspec": {
      "name": "python3",
      "display_name": "Python 3"
    },
    "language_info": {
      "name": "python"
    }
  },
  "cells": [
    {
      "cell_type": "code",
      "execution_count": 37,
      "metadata": {
        "colab": {
          "base_uri": "https://localhost:8080/"
        },
        "id": "GoatbzmKDR-c",
        "outputId": "640ccbd1-6535-46cd-a584-ffb1873d1a8b"
      },
      "outputs": [
        {
          "output_type": "stream",
          "name": "stdout",
          "text": [
            "Requirement already satisfied: nltk in /usr/local/lib/python3.10/dist-packages (3.8.1)\n",
            "Requirement already satisfied: click in /usr/local/lib/python3.10/dist-packages (from nltk) (8.1.7)\n",
            "Requirement already satisfied: joblib in /usr/local/lib/python3.10/dist-packages (from nltk) (1.4.2)\n",
            "Requirement already satisfied: regex>=2021.8.3 in /usr/local/lib/python3.10/dist-packages (from nltk) (2024.5.15)\n",
            "Requirement already satisfied: tqdm in /usr/local/lib/python3.10/dist-packages (from nltk) (4.66.4)\n"
          ]
        }
      ],
      "source": [
        "!pip install nltk"
      ]
    },
    {
      "cell_type": "code",
      "source": [
        "corpus = \"\"\"John's experience in Paris was unforgettable. He'd visited the Eiffel Tower, the Louvre, and Notre-Dame Cathedral. 'It's amazing!' he exclaimed. Despite the crowds, John's enthusiasm never waned; he even tried speaking French: 'Bonjour, monsieur. Où est la bibliothèque?' His adventures didn't stop there. He sampled delicious croissants, explored hidden cafes, and enjoyed the vibrant nightlife. By the end of his trip, John's French had improved, and he felt a deep connection to the city's rich history and culture.\"\"\""
      ],
      "metadata": {
        "id": "1JL6zIpxD4LN"
      },
      "execution_count": 38,
      "outputs": []
    },
    {
      "cell_type": "code",
      "source": [
        "print(corpus)"
      ],
      "metadata": {
        "colab": {
          "base_uri": "https://localhost:8080/"
        },
        "id": "zTItf0pxEopb",
        "outputId": "45958476-3edf-4140-be39-011d212fd954"
      },
      "execution_count": 39,
      "outputs": [
        {
          "output_type": "stream",
          "name": "stdout",
          "text": [
            "John's experience in Paris was unforgettable. He'd visited the Eiffel Tower, the Louvre, and Notre-Dame Cathedral. 'It's amazing!' he exclaimed. Despite the crowds, John's enthusiasm never waned; he even tried speaking French: 'Bonjour, monsieur. Où est la bibliothèque?' His adventures didn't stop there. He sampled delicious croissants, explored hidden cafes, and enjoyed the vibrant nightlife. By the end of his trip, John's French had improved, and he felt a deep connection to the city's rich history and culture.\n"
          ]
        }
      ]
    },
    {
      "cell_type": "code",
      "source": [
        "from nltk.tokenize import sent_tokenize"
      ],
      "metadata": {
        "id": "wTQBRbCCEqn5"
      },
      "execution_count": 40,
      "outputs": []
    },
    {
      "cell_type": "code",
      "source": [
        "import nltk\n",
        "nltk.download('punkt')"
      ],
      "metadata": {
        "colab": {
          "base_uri": "https://localhost:8080/"
        },
        "id": "sxQDsgH3FlEl",
        "outputId": "c1490d1b-efcb-487c-91d1-c246694c979c"
      },
      "execution_count": 41,
      "outputs": [
        {
          "output_type": "stream",
          "name": "stderr",
          "text": [
            "[nltk_data] Downloading package punkt to /root/nltk_data...\n",
            "[nltk_data]   Package punkt is already up-to-date!\n"
          ]
        },
        {
          "output_type": "execute_result",
          "data": {
            "text/plain": [
              "True"
            ]
          },
          "metadata": {},
          "execution_count": 41
        }
      ]
    },
    {
      "cell_type": "code",
      "source": [
        "documents = sent_tokenize(corpus)"
      ],
      "metadata": {
        "id": "yY588W4mGzia"
      },
      "execution_count": 42,
      "outputs": []
    },
    {
      "cell_type": "code",
      "source": [
        "print(documents)"
      ],
      "metadata": {
        "colab": {
          "base_uri": "https://localhost:8080/"
        },
        "id": "eiZamwJCMmBf",
        "outputId": "10bd8520-829f-4ebf-cbfa-3e4f42c77056"
      },
      "execution_count": 51,
      "outputs": [
        {
          "output_type": "stream",
          "name": "stdout",
          "text": [
            "[\"John's experience in Paris was unforgettable.\", \"He'd visited the Eiffel Tower, the Louvre, and Notre-Dame Cathedral.\", \"'It's amazing!'\", 'he exclaimed.', \"Despite the crowds, John's enthusiasm never waned; he even tried speaking French: 'Bonjour, monsieur.\", \"Où est la bibliothèque?'\", \"His adventures didn't stop there.\", 'He sampled delicious croissants, explored hidden cafes, and enjoyed the vibrant nightlife.', \"By the end of his trip, John's French had improved, and he felt a deep connection to the city's rich history and culture.\"]\n"
          ]
        }
      ]
    },
    {
      "cell_type": "code",
      "source": [
        "from nltk.tokenize import word_tokenize"
      ],
      "metadata": {
        "id": "MwfJ-iUjG3sM"
      },
      "execution_count": 43,
      "outputs": []
    },
    {
      "cell_type": "code",
      "source": [
        "words = word_tokenize(corpus)"
      ],
      "metadata": {
        "id": "4T-cTDvqHd6H"
      },
      "execution_count": 44,
      "outputs": []
    },
    {
      "cell_type": "code",
      "source": [
        "print(words)"
      ],
      "metadata": {
        "colab": {
          "base_uri": "https://localhost:8080/"
        },
        "id": "0tOnefDuHmEP",
        "outputId": "45c5edfe-feea-4e01-efa4-5e3e87b22832"
      },
      "execution_count": 45,
      "outputs": [
        {
          "output_type": "stream",
          "name": "stdout",
          "text": [
            "['John', \"'s\", 'experience', 'in', 'Paris', 'was', 'unforgettable', '.', 'He', \"'d\", 'visited', 'the', 'Eiffel', 'Tower', ',', 'the', 'Louvre', ',', 'and', 'Notre-Dame', 'Cathedral', '.', \"'It\", \"'s\", 'amazing', '!', \"'\", 'he', 'exclaimed', '.', 'Despite', 'the', 'crowds', ',', 'John', \"'s\", 'enthusiasm', 'never', 'waned', ';', 'he', 'even', 'tried', 'speaking', 'French', ':', \"'Bonjour\", ',', 'monsieur', '.', 'Où', 'est', 'la', 'bibliothèque', '?', \"'\", 'His', 'adventures', 'did', \"n't\", 'stop', 'there', '.', 'He', 'sampled', 'delicious', 'croissants', ',', 'explored', 'hidden', 'cafes', ',', 'and', 'enjoyed', 'the', 'vibrant', 'nightlife', '.', 'By', 'the', 'end', 'of', 'his', 'trip', ',', 'John', \"'s\", 'French', 'had', 'improved', ',', 'and', 'he', 'felt', 'a', 'deep', 'connection', 'to', 'the', 'city', \"'s\", 'rich', 'history', 'and', 'culture', '.']\n"
          ]
        }
      ]
    },
    {
      "cell_type": "code",
      "source": [
        "for doc in documents:\n",
        "  print(word_tokenize(doc))"
      ],
      "metadata": {
        "colab": {
          "base_uri": "https://localhost:8080/"
        },
        "id": "yJ5vlEbfHq2B",
        "outputId": "83985b2a-dbd7-4dbb-ac75-04458f3e60bf"
      },
      "execution_count": 46,
      "outputs": [
        {
          "output_type": "stream",
          "name": "stdout",
          "text": [
            "['John', \"'s\", 'experience', 'in', 'Paris', 'was', 'unforgettable', '.']\n",
            "['He', \"'d\", 'visited', 'the', 'Eiffel', 'Tower', ',', 'the', 'Louvre', ',', 'and', 'Notre-Dame', 'Cathedral', '.']\n",
            "[\"'It\", \"'s\", 'amazing', '!', \"'\"]\n",
            "['he', 'exclaimed', '.']\n",
            "['Despite', 'the', 'crowds', ',', 'John', \"'s\", 'enthusiasm', 'never', 'waned', ';', 'he', 'even', 'tried', 'speaking', 'French', ':', \"'Bonjour\", ',', 'monsieur', '.']\n",
            "['Où', 'est', 'la', 'bibliothèque', '?', \"'\"]\n",
            "['His', 'adventures', 'did', \"n't\", 'stop', 'there', '.']\n",
            "['He', 'sampled', 'delicious', 'croissants', ',', 'explored', 'hidden', 'cafes', ',', 'and', 'enjoyed', 'the', 'vibrant', 'nightlife', '.']\n",
            "['By', 'the', 'end', 'of', 'his', 'trip', ',', 'John', \"'s\", 'French', 'had', 'improved', ',', 'and', 'he', 'felt', 'a', 'deep', 'connection', 'to', 'the', 'city', \"'s\", 'rich', 'history', 'and', 'culture', '.']\n"
          ]
        }
      ]
    },
    {
      "cell_type": "code",
      "source": [
        "from nltk.tokenize import wordpunct_tokenize"
      ],
      "metadata": {
        "id": "9VGMt8A-H84i"
      },
      "execution_count": 47,
      "outputs": []
    },
    {
      "cell_type": "code",
      "source": [
        "print(wordpunct_tokenize(corpus))"
      ],
      "metadata": {
        "colab": {
          "base_uri": "https://localhost:8080/"
        },
        "id": "pp_U_7VlITbc",
        "outputId": "18a2eaa9-b093-49ff-c20c-9dfe69d5ab27"
      },
      "execution_count": 48,
      "outputs": [
        {
          "output_type": "stream",
          "name": "stdout",
          "text": [
            "['John', \"'\", 's', 'experience', 'in', 'Paris', 'was', 'unforgettable', '.', 'He', \"'\", 'd', 'visited', 'the', 'Eiffel', 'Tower', ',', 'the', 'Louvre', ',', 'and', 'Notre', '-', 'Dame', 'Cathedral', '.', \"'\", 'It', \"'\", 's', 'amazing', \"!'\", 'he', 'exclaimed', '.', 'Despite', 'the', 'crowds', ',', 'John', \"'\", 's', 'enthusiasm', 'never', 'waned', ';', 'he', 'even', 'tried', 'speaking', 'French', ':', \"'\", 'Bonjour', ',', 'monsieur', '.', 'Où', 'est', 'la', 'bibliothèque', \"?'\", 'His', 'adventures', 'didn', \"'\", 't', 'stop', 'there', '.', 'He', 'sampled', 'delicious', 'croissants', ',', 'explored', 'hidden', 'cafes', ',', 'and', 'enjoyed', 'the', 'vibrant', 'nightlife', '.', 'By', 'the', 'end', 'of', 'his', 'trip', ',', 'John', \"'\", 's', 'French', 'had', 'improved', ',', 'and', 'he', 'felt', 'a', 'deep', 'connection', 'to', 'the', 'city', \"'\", 's', 'rich', 'history', 'and', 'culture', '.']\n"
          ]
        }
      ]
    },
    {
      "cell_type": "code",
      "source": [
        "from nltk.tokenize import TreebankWordTokenizer\n"
      ],
      "metadata": {
        "id": "x8fq3xhvIWRy"
      },
      "execution_count": 49,
      "outputs": []
    },
    {
      "cell_type": "code",
      "source": [
        "print(TreebankWordTokenizer().tokenize(corpus))"
      ],
      "metadata": {
        "colab": {
          "base_uri": "https://localhost:8080/"
        },
        "id": "TVk8nd-tI-NN",
        "outputId": "8733928d-906d-4747-b14a-490a0df310c3"
      },
      "execution_count": 50,
      "outputs": [
        {
          "output_type": "stream",
          "name": "stdout",
          "text": [
            "['John', \"'s\", 'experience', 'in', 'Paris', 'was', 'unforgettable.', 'He', \"'d\", 'visited', 'the', 'Eiffel', 'Tower', ',', 'the', 'Louvre', ',', 'and', 'Notre-Dame', 'Cathedral.', \"'It\", \"'s\", 'amazing', '!', \"'\", 'he', 'exclaimed.', 'Despite', 'the', 'crowds', ',', 'John', \"'s\", 'enthusiasm', 'never', 'waned', ';', 'he', 'even', 'tried', 'speaking', 'French', ':', \"'Bonjour\", ',', 'monsieur.', 'Où', 'est', 'la', 'bibliothèque', '?', \"'\", 'His', 'adventures', 'did', \"n't\", 'stop', 'there.', 'He', 'sampled', 'delicious', 'croissants', ',', 'explored', 'hidden', 'cafes', ',', 'and', 'enjoyed', 'the', 'vibrant', 'nightlife.', 'By', 'the', 'end', 'of', 'his', 'trip', ',', 'John', \"'s\", 'French', 'had', 'improved', ',', 'and', 'he', 'felt', 'a', 'deep', 'connection', 'to', 'the', 'city', \"'s\", 'rich', 'history', 'and', 'culture', '.']\n"
          ]
        }
      ]
    },
    {
      "cell_type": "code",
      "source": [],
      "metadata": {
        "id": "xOEvkslOJFjc"
      },
      "execution_count": 50,
      "outputs": []
    }
  ]
}